{
 "cells": [
  {
   "cell_type": "code",
   "execution_count": 1,
   "metadata": {},
   "outputs": [],
   "source": [
    "import numpy as np"
   ]
  },
  {
   "cell_type": "code",
   "execution_count": 2,
   "metadata": {},
   "outputs": [],
   "source": [
    "def rms(original_frames, filtered_frames):\n",
    "  return np.sqrt(((original_frames - filtered_frames) ** 2).mean())"
   ]
  },
  {
   "cell_type": "code",
   "execution_count": 7,
   "metadata": {},
   "outputs": [],
   "source": [
    "original = np.asarray([\n",
    "  [\n",
    "    [2,2,2],\n",
    "    [1,1,1],\n",
    "    [1,1,1],\n",
    "  ],\n",
    "  [\n",
    "    [1,1,1],\n",
    "    [1,1,1],\n",
    "    [1,1,1],\n",
    "  ]\n",
    "])\n",
    "\n",
    "filtered = np.asarray([\n",
    "  [\n",
    "    [0,1,0],\n",
    "    [0,1,0],\n",
    "    [0,1,0],\n",
    "  ],\n",
    "  [\n",
    "    [0,0,0],\n",
    "    [1,1,1],\n",
    "    [0,0,0],\n",
    "  ]\n",
    "])\n"
   ]
  },
  {
   "cell_type": "code",
   "execution_count": 9,
   "metadata": {},
   "outputs": [
    {
     "name": "stdout",
     "output_type": "stream",
     "text": [
      "diff [[[2 1 2]\n",
      "  [1 0 1]\n",
      "  [1 0 1]]\n",
      "\n",
      " [[1 1 1]\n",
      "  [0 0 0]\n",
      "  [1 1 1]]]\n",
      "pow [[[4 1 4]\n",
      "  [1 0 1]\n",
      "  [1 0 1]]\n",
      "\n",
      " [[1 1 1]\n",
      "  [0 0 0]\n",
      "  [1 1 1]]]\n",
      "mean 1.0555555555555556\n",
      "sqrt 1.0274023338281628\n",
      "rms 1.0274023338281628\n"
     ]
    }
   ],
   "source": [
    "diff =  original - filtered\n",
    "print('diff', diff)\n",
    "\n",
    "pow = np.power(diff, 2)\n",
    "print('pow', pow)\n",
    "\n",
    "mean = np.mean(pow)\n",
    "print('mean', mean)\n",
    "\n",
    "sqrt = np.sqrt(mean)\n",
    "print('sqrt', sqrt)\n",
    "\n",
    "print('rms', rms(original, filtered))"
   ]
  },
  {
   "cell_type": "code",
   "execution_count": 27,
   "metadata": {},
   "outputs": [
    {
     "data": {
      "text/plain": [
       "array([[[32,  1, 32],\n",
       "        [ 1,  0,  1],\n",
       "        [ 1,  0,  1]],\n",
       "\n",
       "       [[ 1,  1,  1],\n",
       "        [ 0,  0,  0],\n",
       "        [ 1,  1,  1]]], dtype=int32)"
      ]
     },
     "execution_count": 27,
     "metadata": {},
     "output_type": "execute_result"
    }
   ],
   "source": [
    "np.power((original - filtered), 5)"
   ]
  }
 ],
 "metadata": {
  "interpreter": {
   "hash": "8a217928552975b7ae654380df5254ab472088b69b1bc1e51824fa59e6491235"
  },
  "kernelspec": {
   "display_name": "Python 3.9.0 ('experimentos-dRtA6BdM')",
   "language": "python",
   "name": "python3"
  },
  "language_info": {
   "codemirror_mode": {
    "name": "ipython",
    "version": 3
   },
   "file_extension": ".py",
   "mimetype": "text/x-python",
   "name": "python",
   "nbconvert_exporter": "python",
   "pygments_lexer": "ipython3",
   "version": "3.9.0"
  },
  "orig_nbformat": 4
 },
 "nbformat": 4,
 "nbformat_minor": 2
}
